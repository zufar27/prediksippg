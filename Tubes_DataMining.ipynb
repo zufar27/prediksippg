{
  "nbformat": 4,
  "nbformat_minor": 0,
  "metadata": {
    "colab": {
      "provenance": []
    },
    "kernelspec": {
      "name": "python3",
      "display_name": "Python 3"
    },
    "language_info": {
      "name": "python"
    }
  },
  "cells": [
    {
      "cell_type": "code",
      "source": [
        "!unzip /content/PPG_Signal.zip"
      ],
      "metadata": {
        "colab": {
          "base_uri": "https://localhost:8080/"
        },
        "id": "G2GUImf3RM3n",
        "outputId": "8704da70-bbdb-4567-8429-32bbb670896b"
      },
      "execution_count": null,
      "outputs": [
        {
          "output_type": "stream",
          "name": "stdout",
          "text": [
            "Archive:  /content/PPG_Signal.zip\n",
            "  inflating: PPG_Signal/p040000.csv  \n",
            "  inflating: PPG_Signal/p040013.csv  \n",
            "  inflating: PPG_Signal/p040019.csv  \n",
            "  inflating: PPG_Signal/p040033.csv  \n",
            "  inflating: PPG_Signal/p040042.csv  \n",
            "  inflating: PPG_Signal/p040057.csv  \n",
            "  inflating: PPG_Signal/p040059.csv  \n",
            "  inflating: PPG_Signal/p040063.csv  \n",
            "  inflating: PPG_Signal/p040068.csv  \n",
            "  inflating: PPG_Signal/p040083.csv  \n",
            "  inflating: PPG_Signal/p040084.csv  \n",
            "  inflating: PPG_Signal/p040133.csv  \n",
            "  inflating: PPG_Signal/p040161.csv  \n",
            "  inflating: PPG_Signal/p040179.csv  \n",
            "  inflating: PPG_Signal/p040189.csv  \n",
            "  inflating: PPG_Signal/p040200.csv  \n",
            "  inflating: PPG_Signal/p040206.csv  \n",
            "  inflating: PPG_Signal/p040213.csv  \n",
            "  inflating: PPG_Signal/p040236.csv  \n",
            "  inflating: PPG_Signal/p040239.csv  \n",
            "  inflating: PPG_Signal/p040241.csv  \n",
            "  inflating: PPG_Signal/p040246.csv  \n",
            "  inflating: PPG_Signal/p040253.csv  \n",
            "  inflating: PPG_Signal/p040269.csv  \n",
            "  inflating: PPG_Signal/p040299.csv  \n",
            "  inflating: PPG_Signal/p040305.csv  \n",
            "  inflating: PPG_Signal/p040317.csv  \n",
            "  inflating: PPG_Signal/p040321.csv  \n",
            "  inflating: PPG_Signal/p040337.csv  \n",
            "  inflating: PPG_Signal/p040347.csv  \n",
            "  inflating: PPG_Signal/p040352.csv  \n",
            "  inflating: PPG_Signal/p040370.csv  \n",
            "  inflating: PPG_Signal/p040371.csv  \n",
            "  inflating: PPG_Signal/p040387.csv  \n",
            "  inflating: PPG_Signal/p040412.csv  \n",
            "  inflating: PPG_Signal/p040425.csv  \n",
            "  inflating: PPG_Signal/p040435.csv  \n",
            "  inflating: PPG_Signal/p040460.csv  \n",
            "  inflating: PPG_Signal/p040463.csv  \n",
            "  inflating: PPG_Signal/p040472.csv  \n",
            "  inflating: PPG_Signal/p040474.csv  \n",
            "  inflating: PPG_Signal/p040477.csv  \n",
            "  inflating: PPG_Signal/p040483.csv  \n",
            "  inflating: PPG_Signal/p040485.csv  \n",
            "  inflating: PPG_Signal/p040566.csv  \n",
            "  inflating: PPG_Signal/p040567.csv  \n",
            "  inflating: PPG_Signal/p040569.csv  \n",
            "  inflating: PPG_Signal/p040577.csv  \n",
            "  inflating: PPG_Signal/p040580.csv  \n",
            "  inflating: PPG_Signal/p040599.csv  \n",
            "  inflating: PPG_Signal/p040601.csv  \n",
            "  inflating: PPG_Signal/p040624.csv  \n",
            "  inflating: PPG_Signal/p040673.csv  \n",
            "  inflating: PPG_Signal/p040694.csv  \n"
          ]
        }
      ]
    },
    {
      "cell_type": "code",
      "source": [
        "import pandas as pd\n",
        "import os\n",
        "\n",
        "# Tentukan direktori dimana file CSV berada\n",
        "directory_path = '/content/'\n",
        "\n",
        "# Membaca semua file CSV dalam direktori\n",
        "all_files = [os.path.join(directory_path, file) for file in os.listdir(directory_path) if file.endswith('.csv')]\n",
        "df_list = [pd.read_csv(file) for file in all_files]\n",
        "\n",
        "# Menggabungkan semua DataFrame ke dalam satu DataFrame besar\n",
        "complete_df = pd.concat(df_list, ignore_index=True)\n",
        "\n",
        "# Menampilkan informasi dasar dan lima baris pertama dari DataFrame\n",
        "print(complete_df.info())\n",
        "print(complete_df.head())\n"
      ],
      "metadata": {
        "colab": {
          "base_uri": "https://localhost:8080/"
        },
        "id": "i2sqUerARcl9",
        "outputId": "2fc2f90f-ac45-48e5-ed51-81677e82d774"
      },
      "execution_count": 1,
      "outputs": [
        {
          "output_type": "stream",
          "name": "stdout",
          "text": [
            "<class 'pandas.core.frame.DataFrame'>\n",
            "RangeIndex: 54 entries, 0 to 53\n",
            "Columns: 4202 entries, 0 to Mean_NBP_Dias\n",
            "dtypes: float64(4202)\n",
            "memory usage: 1.7 MB\n",
            "None\n",
            "          0         1         2         3         4         5         6  \\\n",
            "0  1.698925  1.691105  1.682307  1.672532  1.665689  1.660802  1.653959   \n",
            "1  0.974585  1.020528  1.075269  1.138807  1.219941  1.313783  1.414467   \n",
            "2  1.746823  1.719453  1.695015  1.667644  1.639296  1.610948  1.582600   \n",
            "3  0.578690  0.560117  0.542522  0.524927  0.506354  0.486804  0.467253   \n",
            "4  0.485826  0.481916  0.477028  0.473118  0.469208  0.464321  0.460411   \n",
            "\n",
            "          7         8         9  ...      4192      4193      4194      4195  \\\n",
            "0  1.647116  1.641251  1.635386  ...  2.566960  2.507331  2.444770  2.378299   \n",
            "1  1.515152  1.615836  1.712610  ...  2.201369  2.283480  2.370479  2.453568   \n",
            "2  1.555230  1.528837  1.502444  ...  3.135875  3.149560  3.165200  3.177908   \n",
            "3  0.449658  0.433040  0.417400  ...  0.397849  0.396872  0.395894  0.393939   \n",
            "4  0.456500  0.453568  0.449658  ...  0.259042  0.255132  0.251222  0.248289   \n",
            "\n",
            "       4196      4197      4198      4199  Mean_NBP_Sys  Mean_NBP_Dias  \n",
            "0  2.307918  2.233627  2.158358  2.082111     95.459603      53.603550  \n",
            "1  2.527859  2.591398  2.646139  2.690127    111.865654      54.948688  \n",
            "2  3.184751  3.183773  3.173998  3.154448    139.349820      56.401298  \n",
            "3  0.391984  0.390029  0.387097  0.385142    119.046265      68.032074  \n",
            "4  0.247312  0.249267  0.255132  0.262952    102.132979      43.667126  \n",
            "\n",
            "[5 rows x 4202 columns]\n"
          ]
        }
      ]
    },
    {
      "cell_type": "code",
      "source": [
        "import matplotlib.pyplot as plt\n",
        "import seaborn as sns\n",
        "\n",
        "# Statistik Deskriptif\n",
        "print(complete_df.describe())\n",
        "\n",
        "# Pengecekan Nilai Hilang\n",
        "print(complete_df.isnull().sum())\n",
        "\n",
        "# Korelasi\n",
        "correlation_matrix = complete_df.corr()\n",
        "print(correlation_matrix['Mean_NBP_Sys'].sort_values(ascending=False))\n",
        "print(correlation_matrix['Mean_NBP_Dias'].sort_values(ascending=False))\n",
        "\n",
        "# Visualisasi histogram untuk beberapa fitur\n",
        "complete_df[['Mean_NBP_Sys', 'Mean_NBP_Dias']].hist(bins=30, figsize=(10, 5))\n",
        "plt.show()\n",
        "\n",
        "# Boxplot untuk melihat outliers\n",
        "sns.boxplot(data=complete_df[['Mean_NBP_Sys', 'Mean_NBP_Dias']])\n",
        "plt.show()\n",
        "\n",
        "# Scatter plot untuk melihat hubungan antara Systolic dan Diastolic\n",
        "sns.scatterplot(x='Mean_NBP_Sys', y='Mean_NBP_Dias', data=complete_df)\n",
        "plt.show()\n"
      ],
      "metadata": {
        "colab": {
          "base_uri": "https://localhost:8080/",
          "height": 1000
        },
        "id": "ycxCGvOPR5qV",
        "outputId": "bf58e61b-9889-47cd-e8d5-4ae1af89c89b"
      },
      "execution_count": 2,
      "outputs": [
        {
          "output_type": "stream",
          "name": "stdout",
          "text": [
            "               0          1          2          3          4          5  \\\n",
            "count  54.000000  54.000000  54.000000  54.000000  54.000000  54.000000   \n",
            "mean    1.031910   1.028811   1.026817   1.026128   1.027141   1.028914   \n",
            "std     0.772118   0.766763   0.761899   0.757500   0.754359   0.753173   \n",
            "min     0.164223   0.161290   0.159335   0.157380   0.155425   0.153470   \n",
            "25%     0.399020   0.406863   0.407047   0.394969   0.406863   0.405882   \n",
            "50%     0.637295   0.629469   0.631373   0.633333   0.631373   0.631373   \n",
            "75%     1.528837   1.598729   1.625122   1.607038   1.576002   1.610704   \n",
            "max     2.900293   2.920821   2.928641   2.923754   2.908113   2.882698   \n",
            "\n",
            "               6          7          8          9  ...       4192       4193  \\\n",
            "count  54.000000  54.000000  54.000000  54.000000  ...  54.000000  54.000000   \n",
            "mean    1.031775   1.035014   1.038635   1.042019  ...   0.993811   0.988016   \n",
            "std     0.753975   0.757943   0.763535   0.770713  ...   0.748982   0.743383   \n",
            "min     0.153470   0.153470   0.152493   0.151515  ...   0.134897   0.134897   \n",
            "25%     0.407843   0.408824   0.408824   0.405882  ...   0.396383   0.394673   \n",
            "50%     0.631373   0.629412   0.637255   0.658824  ...   0.616762   0.598160   \n",
            "75%     1.582356   1.554008   1.594086   1.610459  ...   1.405181   1.402737   \n",
            "max     2.847507   2.802542   2.747801   2.686217  ...   3.135875   3.149560   \n",
            "\n",
            "            4194       4195       4196       4197       4198       4199  \\\n",
            "count  54.000000  54.000000  54.000000  54.000000  54.000000  54.000000   \n",
            "mean    0.982437   0.978109   0.973798   0.969867   0.967148   0.965062   \n",
            "std     0.738295   0.733223   0.727969   0.723765   0.721710   0.720546   \n",
            "min     0.134897   0.134897   0.134897   0.133920   0.133920   0.133920   \n",
            "25%     0.393091   0.394474   0.396078   0.404902   0.405882   0.403280   \n",
            "50%     0.582353   0.590196   0.590196   0.584314   0.576471   0.574510   \n",
            "75%     1.405670   1.440127   1.464076   1.501955   1.499511   1.486804   \n",
            "max     3.165200   3.177908   3.184751   3.183773   3.173998   3.154448   \n",
            "\n",
            "       Mean_NBP_Sys  Mean_NBP_Dias  \n",
            "count     54.000000      54.000000  \n",
            "mean     116.362132      60.156387  \n",
            "std       13.076672       9.340074  \n",
            "min       87.666667      39.291667  \n",
            "25%      109.325368      54.346999  \n",
            "50%      114.284582      61.592166  \n",
            "75%      123.381396      65.464487  \n",
            "max      164.577621      77.899401  \n",
            "\n",
            "[8 rows x 4202 columns]\n",
            "0                0\n",
            "1                0\n",
            "2                0\n",
            "3                0\n",
            "4                0\n",
            "                ..\n",
            "4197             0\n",
            "4198             0\n",
            "4199             0\n",
            "Mean_NBP_Sys     0\n",
            "Mean_NBP_Dias    0\n",
            "Length: 4202, dtype: int64\n",
            "Mean_NBP_Sys     1.000000\n",
            "Mean_NBP_Dias    0.580320\n",
            "1776             0.549434\n",
            "1777             0.548898\n",
            "1775             0.546346\n",
            "                   ...   \n",
            "2581             0.001657\n",
            "2585             0.001237\n",
            "2582             0.000689\n",
            "2584             0.000110\n",
            "2583             0.000069\n",
            "Name: Mean_NBP_Sys, Length: 4202, dtype: float64\n",
            "Mean_NBP_Dias    1.000000\n",
            "Mean_NBP_Sys     0.580320\n",
            "2778             0.300290\n",
            "2777             0.299887\n",
            "2779             0.297653\n",
            "                   ...   \n",
            "2583            -0.083260\n",
            "2588            -0.083272\n",
            "2586            -0.083528\n",
            "2585            -0.084029\n",
            "2584            -0.084032\n",
            "Name: Mean_NBP_Dias, Length: 4202, dtype: float64\n"
          ]
        },
        {
          "output_type": "display_data",
          "data": {
            "text/plain": [
              "<Figure size 1000x500 with 2 Axes>"
            ],
            "image/png": "[encoded data removed]"
          },
          "metadata": {}
        },
        {
          "output_type": "display_data",
          "data": {
            "text/plain": [
              "<Figure size 640x480 with 1 Axes>"
            ],
            "image/png": "[encoded data removed]"
          },
          "metadata": {}
        },
        {
          "output_type": "display_data",
          "data": {
            "text/plain": [
              "<Figure size 640x480 with 1 Axes>"
            ],
            "image/png": "[encoded data removed]"
          },
          "metadata": {}
        }
      ]
    },
    {
      "cell_type": "code",
      "source": [
        "from sklearn.impute import SimpleImputer\n",
        "from sklearn.preprocessing import StandardScaler\n",
        "from sklearn.model_selection import train_test_split\n",
        "\n",
        "# Menentukan fitur dan target\n",
        "X = complete_df.drop(['Mean_NBP_Sys', 'Mean_NBP_Dias'], axis=1)\n",
        "y = complete_df[['Mean_NBP_Sys', 'Mean_NBP_Dias']]\n",
        "\n",
        "# Memisahkan data menjadi training set dan test set\n",
        "X_train, X_test, y_train, y_test = train_test_split(X, y, test_size=0.2, random_state=42)\n",
        "\n",
        "# Mengganti NaN dengan median dari setiap kolom\n",
        "imputer = SimpleImputer(strategy='median')\n",
        "X_train_imputed = imputer.fit_transform(X_train)\n",
        "X_test_imputed = imputer.transform(X_test)\n",
        "\n",
        "# Normalisasi data\n",
        "scaler = StandardScaler()\n",
        "X_train_scaled = scaler.fit_transform(X_train_imputed)\n",
        "X_test_scaled = scaler.transform(X_test_imputed)\n"
      ],
      "metadata": {
        "id": "go-rAWK5SozL"
      },
      "execution_count": 3,
      "outputs": []
    },
    {
      "cell_type": "code",
      "source": [
        "from sklearn.linear_model import LinearRegression\n",
        "from sklearn.ensemble import RandomForestRegressor\n",
        "from sklearn.neighbors import KNeighborsRegressor\n",
        "from sklearn.metrics import mean_squared_error, r2_score\n",
        "\n",
        "# Inisialisasi model\n",
        "lr = LinearRegression()\n",
        "rf = RandomForestRegressor(random_state=42)\n",
        "knn = KNeighborsRegressor()\n",
        "\n",
        "# Tempat untuk menyimpan hasil\n",
        "results = {}\n",
        "\n",
        "# Fungsi untuk melatih dan mengevaluasi model\n",
        "def train_eval_model(model, model_name, X_train, y_train, X_test, y_test):\n",
        "    model.fit(X_train, y_train)\n",
        "    y_pred = model.predict(X_test)\n",
        "    mse = mean_squared_error(y_test, y_pred)\n",
        "    rmse = mse ** 0.5\n",
        "    r2 = r2_score(y_test, y_pred)\n",
        "    results[model_name] = {'RMSE': rmse, 'R^2': r2}\n",
        "    print(f'{model_name} - RMSE: {rmse}, R^2: {r2}')\n",
        "\n",
        "# Melatih dan mengevaluasi Linear Regression\n",
        "train_eval_model(lr, 'Linear Regression', X_train_scaled, y_train, X_test_scaled, y_test)\n",
        "\n",
        "# Melatih dan mengevaluasi Random Forest\n",
        "train_eval_model(rf, 'Random Forest', X_train_scaled, y_train, X_test_scaled, y_test)\n",
        "\n",
        "# Melatih dan mengevaluasi KNN\n",
        "train_eval_model(knn, 'KNN', X_train_scaled, y_train, X_test_scaled, y_test)\n",
        "\n",
        "# Mencetak dan membandingkan hasil RMSE dan R^2 dari semua model\n",
        "for model_name, metrics in results.items():\n",
        "    print(f'{model_name} - RMSE: {metrics[\"RMSE\"]}, R^2: {metrics[\"R^2\"]}')\n"
      ],
      "metadata": {
        "colab": {
          "base_uri": "https://localhost:8080/"
        },
        "id": "TDwXyq6CSz21",
        "outputId": "af9163c8-a362-481c-dbeb-f312aa47cd06"
      },
      "execution_count": 4,
      "outputs": [
        {
          "output_type": "stream",
          "name": "stdout",
          "text": [
            "Linear Regression - RMSE: 36.95997063810434, R^2: -11.514929652273672\n",
            "Random Forest - RMSE: 11.018846410276918, R^2: -0.11566293501827396\n",
            "KNN - RMSE: 11.620638365567942, R^2: -0.22166477835617138\n",
            "Linear Regression - RMSE: 36.95997063810434, R^2: -11.514929652273672\n",
            "Random Forest - RMSE: 11.018846410276918, R^2: -0.11566293501827396\n",
            "KNN - RMSE: 11.620638365567942, R^2: -0.22166477835617138\n"
          ]
        }
      ]
    },
    {
      "cell_type": "code",
      "source": [
        "from sklearn.model_selection import GridSearchCV\n",
        "\n",
        "# Parameter grid untuk Random Forest\n",
        "param_grid_rf = {\n",
        "    'n_estimators': [10, 50, 100, 200],\n",
        "    'max_depth': [None, 10, 20, 30],\n",
        "    'min_samples_split': [2, 5, 10],\n",
        "    'min_samples_leaf': [1, 2, 4]\n",
        "}\n",
        "\n",
        "# Inisialisasi Grid Search dengan Random Forest model\n",
        "grid_search_rf = GridSearchCV(estimator=RandomForestRegressor(random_state=42),\n",
        "                              param_grid=param_grid_rf,\n",
        "                              cv=5,\n",
        "                              n_jobs=-1,\n",
        "                              scoring='neg_mean_squared_error',\n",
        "                              verbose=2)\n",
        "\n",
        "# Melakukan fitting dan mencari parameter terbaik\n",
        "grid_search_rf.fit(X_train_scaled, y_train)\n",
        "\n",
        "# Hasil terbaik\n",
        "best_params_rf = grid_search_rf.best_params_\n",
        "best_score_rf = (-grid_search_rf.best_score_)**0.5  # Convert neg MSE to RMSE\n",
        "print(f'Best params for Random Forest: {best_params_rf}')\n",
        "print(f'Best RMSE for Random Forest: {best_score_rf}')\n"
      ],
      "metadata": {
        "colab": {
          "base_uri": "https://localhost:8080/"
        },
        "id": "6Wih0STLY8dU",
        "outputId": "6c28604d-7fc0-479d-ec8e-60ed5a0dead9"
      },
      "execution_count": 7,
      "outputs": [
        {
          "output_type": "stream",
          "name": "stdout",
          "text": [
            "Fitting 5 folds for each of 144 candidates, totalling 720 fits\n",
            "Best params for Random Forest: {'max_depth': None, 'min_samples_leaf': 4, 'min_samples_split': 2, 'n_estimators': 200}\n",
            "Best RMSE for Random Forest: 11.651311073845951\n"
          ]
        }
      ]
    },
    {
      "cell_type": "code",
      "source": [
        "# Melatih model Random Forest dengan parameter terbaik\n",
        "random_forest_tuned = RandomForestRegressor(\n",
        "    max_depth=best_params_rf['max_depth'],\n",
        "    min_samples_leaf=best_params_rf['min_samples_leaf'],\n",
        "    min_samples_split=best_params_rf['min_samples_split'],\n",
        "    n_estimators=best_params_rf['n_estimators'],\n",
        "    random_state=42\n",
        ")\n",
        "\n",
        "random_forest_tuned.fit(X_train_scaled, y_train)\n",
        "\n",
        "# Membuat prediksi dengan model yang sudah dituning\n",
        "y_pred_tuned_rf = random_forest_tuned.predict(X_test_scaled)\n",
        "\n",
        "# Menghitung metrik evaluasi\n",
        "rmse_tuned_rf = mean_squared_error(y_test, y_pred_tuned_rf, squared=False)\n",
        "r2_tuned_rf = r2_score(y_test, y_pred_tuned_rf)\n",
        "\n",
        "print(f'Tuned Random Forest RMSE: {rmse_tuned_rf}')\n",
        "print(f'Tuned Random Forest R^2: {r2_tuned_rf}')\n"
      ],
      "metadata": {
        "colab": {
          "base_uri": "https://localhost:8080/"
        },
        "id": "zAuKXfe1jteH",
        "outputId": "6930f115-48fe-4e09-b815-6083d85fe1ad"
      },
      "execution_count": 8,
      "outputs": [
        {
          "output_type": "stream",
          "name": "stdout",
          "text": [
            "Tuned Random Forest RMSE: 10.612760341823062\n",
            "Tuned Random Forest R^2: -0.047357892122841694\n"
          ]
        }
      ]
    }
  ]
}